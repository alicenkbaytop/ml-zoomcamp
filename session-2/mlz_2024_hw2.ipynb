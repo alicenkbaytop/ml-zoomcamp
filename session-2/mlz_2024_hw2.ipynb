{
 "cells": [
  {
   "cell_type": "code",
   "execution_count": 1,
   "metadata": {},
   "outputs": [],
   "source": [
    "import pandas as pd\n",
    "\n",
    "# Load dataset\n",
    "df = pd.read_csv('https://raw.githubusercontent.com/alexeygrigorev/datasets/master/laptops.csv')\n",
    "\n",
    "# Normalize column names\n",
    "df.columns = df.columns.str.lower().str.replace(' ', '_')\n",
    "\n",
    "# Keep only the relevant columns\n",
    "df_filtered = df[['ram', 'storage', 'screen', 'final_price']]\n"
   ]
  },
  {
   "cell_type": "code",
   "execution_count": 2,
   "metadata": {},
   "outputs": [
    {
     "data": {
      "text/plain": [
       "ram            0\n",
       "storage        0\n",
       "screen         4\n",
       "final_price    0\n",
       "dtype: int64"
      ]
     },
     "execution_count": 2,
     "metadata": {},
     "output_type": "execute_result"
    }
   ],
   "source": [
    "# Check for missing values\n",
    "df_filtered.isnull().sum()"
   ]
  },
  {
   "cell_type": "code",
   "execution_count": 3,
   "metadata": {},
   "outputs": [
    {
     "name": "stdout",
     "output_type": "stream",
     "text": [
      "16.0\n"
     ]
    }
   ],
   "source": [
    "# Calculate the median of 'ram'\n",
    "median_ram = df_filtered['ram'].median()\n",
    "print(median_ram)\n"
   ]
  },
  {
   "cell_type": "code",
   "execution_count": 4,
   "metadata": {},
   "outputs": [],
   "source": [
    "from sklearn.model_selection import train_test_split\n",
    "\n",
    "# Shuffle and split the data (60% train, 20% validation, 20% test)\n",
    "df_train, df_temp = train_test_split(df_filtered, test_size=0.4, random_state=42,)\n",
    "df_val, df_test = train_test_split(df_temp, test_size=0.5, random_state=42)\n"
   ]
  },
  {
   "cell_type": "code",
   "execution_count": 10,
   "metadata": {},
   "outputs": [],
   "source": [
    "# Fill missing values with 0\n",
    "df_train_zero = df_train.fillna(0)\n",
    "df_val_zero = df_val.fillna(0)\n",
    "\n",
    "# Fill missing values with mean from train set\n",
    "mean_screen = df_train['screen'].mean()\n",
    "df_train_mean = df_train.fillna(mean_screen)\n",
    "df_val_mean = df_val.fillna(mean_screen)\n"
   ]
  },
  {
   "cell_type": "code",
   "execution_count": 11,
   "metadata": {},
   "outputs": [
    {
     "name": "stdout",
     "output_type": "stream",
     "text": [
      "RMSE with 0 filling: 622.51, RMSE with mean filling: 622.63\n"
     ]
    }
   ],
   "source": [
    "from sklearn.linear_model import LinearRegression\n",
    "from sklearn.metrics import mean_squared_error\n",
    "import numpy as np\n",
    "\n",
    "# Train the model with zero-filled data\n",
    "model_zero = LinearRegression()\n",
    "model_zero.fit(df_train_zero[['ram', 'storage', 'screen']], df_train_zero['final_price'])\n",
    "y_pred_zero = model_zero.predict(df_val_zero[['ram', 'storage', 'screen']])\n",
    "rmse_zero = round(np.sqrt(mean_squared_error(df_val_zero['final_price'], y_pred_zero)), 2)\n",
    "\n",
    "# Train the model with mean-filled data\n",
    "model_mean = LinearRegression()\n",
    "model_mean.fit(df_train_mean[['ram', 'storage', 'screen']], df_train_mean['final_price'])\n",
    "y_pred_mean = model_mean.predict(df_val_mean[['ram', 'storage', 'screen']])\n",
    "rmse_mean = round(np.sqrt(mean_squared_error(df_val_mean['final_price'], y_pred_mean)), 2)\n",
    "\n",
    "print(f\"RMSE with 0 filling: {rmse_zero}, RMSE with mean filling: {rmse_mean}\")\n"
   ]
  },
  {
   "cell_type": "code",
   "execution_count": 12,
   "metadata": {},
   "outputs": [
    {
     "name": "stdout",
     "output_type": "stream",
     "text": [
      "[(0, 622.51), (0.01, 622.51), (0.1, 622.51), (1, 622.51), (5, 622.51), (10, 622.5), (100, 622.35)]\n"
     ]
    }
   ],
   "source": [
    "from sklearn.linear_model import Ridge\n",
    "\n",
    "r_values = [0, 0.01, 0.1, 1, 5, 10, 100]\n",
    "rmse_scores = []\n",
    "\n",
    "for r in r_values:\n",
    "    ridge_model = Ridge(alpha=r)\n",
    "    ridge_model.fit(df_train_zero[['ram', 'storage', 'screen']], df_train_zero['final_price'])\n",
    "    y_pred_ridge = ridge_model.predict(df_val_zero[['ram', 'storage', 'screen']])\n",
    "    rmse_ridge = round(np.sqrt(mean_squared_error(df_val_zero['final_price'], y_pred_ridge)), 2)\n",
    "    rmse_scores.append((r, rmse_ridge))\n",
    "\n",
    "print(rmse_scores)\n"
   ]
  },
  {
   "cell_type": "code",
   "execution_count": 13,
   "metadata": {},
   "outputs": [
    {
     "name": "stdout",
     "output_type": "stream",
     "text": [
      "Standard deviation of RMSE: 35.825\n"
     ]
    }
   ],
   "source": [
    "seeds = [0, 1, 2, 3, 4, 5, 6, 7, 8, 9]\n",
    "rmse_list = []\n",
    "\n",
    "for seed in seeds:\n",
    "    df_train, df_temp = train_test_split(df_filtered, test_size=0.4, random_state=seed)\n",
    "    df_val, df_test = train_test_split(df_temp, test_size=0.5, random_state=seed)\n",
    "    df_train_zero = df_train.fillna(0)\n",
    "    df_val_zero = df_val.fillna(0)\n",
    "\n",
    "    model = LinearRegression()\n",
    "    model.fit(df_train_zero[['ram', 'storage', 'screen']], df_train_zero['final_price'])\n",
    "    y_pred = model.predict(df_val_zero[['ram', 'storage', 'screen']])\n",
    "    rmse = np.sqrt(mean_squared_error(df_val_zero['final_price'], y_pred))\n",
    "    rmse_list.append(rmse)\n",
    "\n",
    "std_rmse = round(np.std(rmse_list), 3)\n",
    "print(f\"Standard deviation of RMSE: {std_rmse}\")\n"
   ]
  },
  {
   "cell_type": "code",
   "execution_count": 16,
   "metadata": {},
   "outputs": [
    {
     "name": "stdout",
     "output_type": "stream",
     "text": [
      "RMSE on test set: 602.43\n"
     ]
    }
   ],
   "source": [
    "np.random.seed(9)\n",
    "\n",
    "df_train_full = pd.concat([df_train, df_val]).fillna(0)\n",
    "\n",
    "ridge_final = Ridge(alpha=0.001, random_state=9)\n",
    "ridge_final.fit(df_train_full[['ram', 'storage', 'screen']], df_train_full['final_price'])\n",
    "y_test_pred = ridge_final.predict(df_test[['ram', 'storage', 'screen']])\n",
    "\n",
    "rmse_test = round(np.sqrt(mean_squared_error(df_test['final_price'], y_test_pred)), 2)\n",
    "print(f\"RMSE on test set: {rmse_test}\")\n"
   ]
  }
 ],
 "metadata": {
  "kernelspec": {
   "display_name": "general",
   "language": "python",
   "name": "python3"
  },
  "language_info": {
   "codemirror_mode": {
    "name": "ipython",
    "version": 3
   },
   "file_extension": ".py",
   "mimetype": "text/x-python",
   "name": "python",
   "nbconvert_exporter": "python",
   "pygments_lexer": "ipython3",
   "version": "3.10.14"
  }
 },
 "nbformat": 4,
 "nbformat_minor": 2
}
